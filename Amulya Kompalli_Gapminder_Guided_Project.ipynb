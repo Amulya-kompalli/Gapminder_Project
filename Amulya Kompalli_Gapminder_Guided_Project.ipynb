{
 "cells": [
  {
   "cell_type": "markdown",
   "id": "bc25ca96",
   "metadata": {},
   "source": [
    "##### Python guided project on Gapminder dataset\n",
    "##### Gapminder dataset explains about GDP per capita as a measure of average income per person in a country. This dataset contains\n",
    "##### information about population, life expectancy, and gdp percapita from 1952 till 2007 for each country. In this project we are going use python  to address certain questions.\n",
    "##### Variables used in this dataset are:\n",
    "##### 1: country = Country \n",
    "##### 2: year = Data collected year\n",
    "##### 3: population = Population of each country\n",
    "##### 4: continent = Continent where country is located\n",
    "##### 5: life_exp = Life expectancy at birth\n",
    "##### 6: gdp_cap = GDP per capita\n"
   ]
  },
  {
   "cell_type": "markdown",
   "id": "3d816e32",
   "metadata": {},
   "source": [
    "##### Understanding of dataset\n",
    "Before moving to any dataset, we must have to understand each variable properly. For example, in this dataset nearly all columns are self-explanatory, but gdp_cap may be confusing. In this project, we have two different datasets containing information about Gapminder. Both datasets have common keys.  \n",
    "GDP stands for Gross Domestic Product. This measure National income / National Output and National expenditure.\n",
    "GDP per capita divides the GDP by the population.\n",
    "Rest of the columns are self-explanatory."
   ]
  },
  {
   "cell_type": "markdown",
   "id": "1d44716c",
   "metadata": {},
   "source": [
    "#### Importing libraries"
   ]
  },
  {
   "cell_type": "code",
   "execution_count": 1,
   "id": "3905d044",
   "metadata": {},
   "outputs": [],
   "source": [
    "import numpy as np\n",
    "import pandas as pd\n",
    "import seaborn as sns\n",
    "import matplotlib.pyplot as plt"
   ]
  },
  {
   "cell_type": "code",
   "execution_count": 2,
   "id": "baed68ec",
   "metadata": {},
   "outputs": [],
   "source": [
    "Gapminder_dataset_1 = pd.read_excel(r\"C:\\Users\\AMULYA\\OneDrive\\Desktop\\Gapminder_key_1.xlsx\")\n",
    "Gapminder_dataset_2 = pd.read_excel(r\"C:\\Users\\AMULYA\\OneDrive\\Desktop\\Gapminder_key_2.xlsx\")"
   ]
  },
  {
   "cell_type": "code",
   "execution_count": 3,
   "id": "bd3b5a7e",
   "metadata": {},
   "outputs": [
    {
     "data": {
      "text/html": [
       "<div>\n",
       "<style scoped>\n",
       "    .dataframe tbody tr th:only-of-type {\n",
       "        vertical-align: middle;\n",
       "    }\n",
       "\n",
       "    .dataframe tbody tr th {\n",
       "        vertical-align: top;\n",
       "    }\n",
       "\n",
       "    .dataframe thead th {\n",
       "        text-align: right;\n",
       "    }\n",
       "</style>\n",
       "<table border=\"1\" class=\"dataframe\">\n",
       "  <thead>\n",
       "    <tr style=\"text-align: right;\">\n",
       "      <th></th>\n",
       "      <th>country</th>\n",
       "      <th>year</th>\n",
       "      <th>population</th>\n",
       "      <th>continent</th>\n",
       "      <th>life_exp</th>\n",
       "      <th>gdp_cap</th>\n",
       "    </tr>\n",
       "  </thead>\n",
       "  <tbody>\n",
       "    <tr>\n",
       "      <th>0</th>\n",
       "      <td>Afghanistan</td>\n",
       "      <td>1952</td>\n",
       "      <td>8425333</td>\n",
       "      <td>Asia</td>\n",
       "      <td>28.801</td>\n",
       "      <td>779.445314</td>\n",
       "    </tr>\n",
       "    <tr>\n",
       "      <th>1</th>\n",
       "      <td>Afghanistan</td>\n",
       "      <td>1957</td>\n",
       "      <td>9240934</td>\n",
       "      <td>Asia</td>\n",
       "      <td>30.332</td>\n",
       "      <td>820.853030</td>\n",
       "    </tr>\n",
       "    <tr>\n",
       "      <th>2</th>\n",
       "      <td>Afghanistan</td>\n",
       "      <td>1962</td>\n",
       "      <td>10267083</td>\n",
       "      <td>Asia</td>\n",
       "      <td>31.997</td>\n",
       "      <td>853.100710</td>\n",
       "    </tr>\n",
       "    <tr>\n",
       "      <th>3</th>\n",
       "      <td>Afghanistan</td>\n",
       "      <td>1967</td>\n",
       "      <td>11537966</td>\n",
       "      <td>Asia</td>\n",
       "      <td>34.020</td>\n",
       "      <td>836.197138</td>\n",
       "    </tr>\n",
       "    <tr>\n",
       "      <th>4</th>\n",
       "      <td>Afghanistan</td>\n",
       "      <td>1972</td>\n",
       "      <td>13079460</td>\n",
       "      <td>Asia</td>\n",
       "      <td>36.088</td>\n",
       "      <td>739.981106</td>\n",
       "    </tr>\n",
       "    <tr>\n",
       "      <th>...</th>\n",
       "      <td>...</td>\n",
       "      <td>...</td>\n",
       "      <td>...</td>\n",
       "      <td>...</td>\n",
       "      <td>...</td>\n",
       "      <td>...</td>\n",
       "    </tr>\n",
       "    <tr>\n",
       "      <th>1699</th>\n",
       "      <td>Zimbabwe</td>\n",
       "      <td>1987</td>\n",
       "      <td>9216418</td>\n",
       "      <td>Africa</td>\n",
       "      <td>62.351</td>\n",
       "      <td>706.157306</td>\n",
       "    </tr>\n",
       "    <tr>\n",
       "      <th>1700</th>\n",
       "      <td>Zimbabwe</td>\n",
       "      <td>1992</td>\n",
       "      <td>10704340</td>\n",
       "      <td>Africa</td>\n",
       "      <td>60.377</td>\n",
       "      <td>693.420786</td>\n",
       "    </tr>\n",
       "    <tr>\n",
       "      <th>1701</th>\n",
       "      <td>Zimbabwe</td>\n",
       "      <td>1997</td>\n",
       "      <td>11404948</td>\n",
       "      <td>Africa</td>\n",
       "      <td>46.809</td>\n",
       "      <td>792.449960</td>\n",
       "    </tr>\n",
       "    <tr>\n",
       "      <th>1702</th>\n",
       "      <td>Zimbabwe</td>\n",
       "      <td>2002</td>\n",
       "      <td>11926563</td>\n",
       "      <td>Africa</td>\n",
       "      <td>39.989</td>\n",
       "      <td>672.038623</td>\n",
       "    </tr>\n",
       "    <tr>\n",
       "      <th>1703</th>\n",
       "      <td>Zimbabwe</td>\n",
       "      <td>2007</td>\n",
       "      <td>12311143</td>\n",
       "      <td>Africa</td>\n",
       "      <td>43.487</td>\n",
       "      <td>469.709298</td>\n",
       "    </tr>\n",
       "  </tbody>\n",
       "</table>\n",
       "<p>1704 rows × 6 columns</p>\n",
       "</div>"
      ],
      "text/plain": [
       "          country  year  population continent  life_exp     gdp_cap\n",
       "0     Afghanistan  1952     8425333      Asia    28.801  779.445314\n",
       "1     Afghanistan  1957     9240934      Asia    30.332  820.853030\n",
       "2     Afghanistan  1962    10267083      Asia    31.997  853.100710\n",
       "3     Afghanistan  1967    11537966      Asia    34.020  836.197138\n",
       "4     Afghanistan  1972    13079460      Asia    36.088  739.981106\n",
       "...           ...   ...         ...       ...       ...         ...\n",
       "1699     Zimbabwe  1987     9216418    Africa    62.351  706.157306\n",
       "1700     Zimbabwe  1992    10704340    Africa    60.377  693.420786\n",
       "1701     Zimbabwe  1997    11404948    Africa    46.809  792.449960\n",
       "1702     Zimbabwe  2002    11926563    Africa    39.989  672.038623\n",
       "1703     Zimbabwe  2007    12311143    Africa    43.487  469.709298\n",
       "\n",
       "[1704 rows x 6 columns]"
      ]
     },
     "execution_count": 3,
     "metadata": {},
     "output_type": "execute_result"
    }
   ],
   "source": [
    "Gapminder_dataset = Gapminder_dataset_1.merge(Gapminder_dataset_2,on = ['country','year'],how= 'outer')\n",
    "Gapminder_dataset"
   ]
  },
  {
   "cell_type": "code",
   "execution_count": 4,
   "id": "6b37d215",
   "metadata": {},
   "outputs": [
    {
     "data": {
      "text/plain": [
       "(1704, 6)"
      ]
     },
     "execution_count": 4,
     "metadata": {},
     "output_type": "execute_result"
    }
   ],
   "source": [
    "Gapminder_dataset.shape"
   ]
  },
  {
   "cell_type": "code",
   "execution_count": 5,
   "id": "bc6f9e27",
   "metadata": {},
   "outputs": [
    {
     "data": {
      "text/html": [
       "<div>\n",
       "<style scoped>\n",
       "    .dataframe tbody tr th:only-of-type {\n",
       "        vertical-align: middle;\n",
       "    }\n",
       "\n",
       "    .dataframe tbody tr th {\n",
       "        vertical-align: top;\n",
       "    }\n",
       "\n",
       "    .dataframe thead th {\n",
       "        text-align: right;\n",
       "    }\n",
       "</style>\n",
       "<table border=\"1\" class=\"dataframe\">\n",
       "  <thead>\n",
       "    <tr style=\"text-align: right;\">\n",
       "      <th></th>\n",
       "      <th>year</th>\n",
       "      <th>population</th>\n",
       "      <th>life_exp</th>\n",
       "      <th>gdp_cap</th>\n",
       "    </tr>\n",
       "  </thead>\n",
       "  <tbody>\n",
       "    <tr>\n",
       "      <th>count</th>\n",
       "      <td>1704.00000</td>\n",
       "      <td>1.704000e+03</td>\n",
       "      <td>1704.000000</td>\n",
       "      <td>1704.000000</td>\n",
       "    </tr>\n",
       "    <tr>\n",
       "      <th>mean</th>\n",
       "      <td>1979.50000</td>\n",
       "      <td>2.960121e+07</td>\n",
       "      <td>59.474439</td>\n",
       "      <td>7215.327081</td>\n",
       "    </tr>\n",
       "    <tr>\n",
       "      <th>std</th>\n",
       "      <td>17.26533</td>\n",
       "      <td>1.061579e+08</td>\n",
       "      <td>12.917107</td>\n",
       "      <td>9857.454543</td>\n",
       "    </tr>\n",
       "    <tr>\n",
       "      <th>min</th>\n",
       "      <td>1952.00000</td>\n",
       "      <td>6.001100e+04</td>\n",
       "      <td>23.599000</td>\n",
       "      <td>241.165876</td>\n",
       "    </tr>\n",
       "    <tr>\n",
       "      <th>25%</th>\n",
       "      <td>1965.75000</td>\n",
       "      <td>2.793664e+06</td>\n",
       "      <td>48.198000</td>\n",
       "      <td>1202.060309</td>\n",
       "    </tr>\n",
       "    <tr>\n",
       "      <th>50%</th>\n",
       "      <td>1979.50000</td>\n",
       "      <td>7.023596e+06</td>\n",
       "      <td>60.712500</td>\n",
       "      <td>3531.846988</td>\n",
       "    </tr>\n",
       "    <tr>\n",
       "      <th>75%</th>\n",
       "      <td>1993.25000</td>\n",
       "      <td>1.958522e+07</td>\n",
       "      <td>70.845500</td>\n",
       "      <td>9325.462346</td>\n",
       "    </tr>\n",
       "    <tr>\n",
       "      <th>max</th>\n",
       "      <td>2007.00000</td>\n",
       "      <td>1.318683e+09</td>\n",
       "      <td>82.603000</td>\n",
       "      <td>113523.132900</td>\n",
       "    </tr>\n",
       "  </tbody>\n",
       "</table>\n",
       "</div>"
      ],
      "text/plain": [
       "             year    population     life_exp        gdp_cap\n",
       "count  1704.00000  1.704000e+03  1704.000000    1704.000000\n",
       "mean   1979.50000  2.960121e+07    59.474439    7215.327081\n",
       "std      17.26533  1.061579e+08    12.917107    9857.454543\n",
       "min    1952.00000  6.001100e+04    23.599000     241.165876\n",
       "25%    1965.75000  2.793664e+06    48.198000    1202.060309\n",
       "50%    1979.50000  7.023596e+06    60.712500    3531.846988\n",
       "75%    1993.25000  1.958522e+07    70.845500    9325.462346\n",
       "max    2007.00000  1.318683e+09    82.603000  113523.132900"
      ]
     },
     "execution_count": 5,
     "metadata": {},
     "output_type": "execute_result"
    }
   ],
   "source": [
    "Gapminder_dataset.describe()"
   ]
  },
  {
   "cell_type": "code",
   "execution_count": 6,
   "id": "a0d054c4",
   "metadata": {},
   "outputs": [
    {
     "data": {
      "text/html": [
       "<div>\n",
       "<style scoped>\n",
       "    .dataframe tbody tr th:only-of-type {\n",
       "        vertical-align: middle;\n",
       "    }\n",
       "\n",
       "    .dataframe tbody tr th {\n",
       "        vertical-align: top;\n",
       "    }\n",
       "\n",
       "    .dataframe thead th {\n",
       "        text-align: right;\n",
       "    }\n",
       "</style>\n",
       "<table border=\"1\" class=\"dataframe\">\n",
       "  <thead>\n",
       "    <tr style=\"text-align: right;\">\n",
       "      <th></th>\n",
       "      <th>country</th>\n",
       "      <th>continent</th>\n",
       "    </tr>\n",
       "  </thead>\n",
       "  <tbody>\n",
       "    <tr>\n",
       "      <th>count</th>\n",
       "      <td>1704</td>\n",
       "      <td>1704</td>\n",
       "    </tr>\n",
       "    <tr>\n",
       "      <th>unique</th>\n",
       "      <td>142</td>\n",
       "      <td>5</td>\n",
       "    </tr>\n",
       "    <tr>\n",
       "      <th>top</th>\n",
       "      <td>Afghanistan</td>\n",
       "      <td>Africa</td>\n",
       "    </tr>\n",
       "    <tr>\n",
       "      <th>freq</th>\n",
       "      <td>12</td>\n",
       "      <td>624</td>\n",
       "    </tr>\n",
       "  </tbody>\n",
       "</table>\n",
       "</div>"
      ],
      "text/plain": [
       "            country continent\n",
       "count          1704      1704\n",
       "unique          142         5\n",
       "top     Afghanistan    Africa\n",
       "freq             12       624"
      ]
     },
     "execution_count": 6,
     "metadata": {},
     "output_type": "execute_result"
    }
   ],
   "source": [
    "Gapminder_dataset.describe(include=['object'])\n"
   ]
  },
  {
   "cell_type": "code",
   "execution_count": 7,
   "id": "7ca1121a",
   "metadata": {},
   "outputs": [
    {
     "data": {
      "text/html": [
       "<div>\n",
       "<style scoped>\n",
       "    .dataframe tbody tr th:only-of-type {\n",
       "        vertical-align: middle;\n",
       "    }\n",
       "\n",
       "    .dataframe tbody tr th {\n",
       "        vertical-align: top;\n",
       "    }\n",
       "\n",
       "    .dataframe thead th {\n",
       "        text-align: right;\n",
       "    }\n",
       "</style>\n",
       "<table border=\"1\" class=\"dataframe\">\n",
       "  <thead>\n",
       "    <tr style=\"text-align: right;\">\n",
       "      <th></th>\n",
       "      <th>country</th>\n",
       "      <th>year</th>\n",
       "      <th>population</th>\n",
       "      <th>continent</th>\n",
       "      <th>life_exp</th>\n",
       "      <th>gdp_cap</th>\n",
       "    </tr>\n",
       "  </thead>\n",
       "  <tbody>\n",
       "    <tr>\n",
       "      <th>count</th>\n",
       "      <td>1704</td>\n",
       "      <td>1704.00000</td>\n",
       "      <td>1.704000e+03</td>\n",
       "      <td>1704</td>\n",
       "      <td>1704.000000</td>\n",
       "      <td>1704.000000</td>\n",
       "    </tr>\n",
       "    <tr>\n",
       "      <th>unique</th>\n",
       "      <td>142</td>\n",
       "      <td>NaN</td>\n",
       "      <td>NaN</td>\n",
       "      <td>5</td>\n",
       "      <td>NaN</td>\n",
       "      <td>NaN</td>\n",
       "    </tr>\n",
       "    <tr>\n",
       "      <th>top</th>\n",
       "      <td>Afghanistan</td>\n",
       "      <td>NaN</td>\n",
       "      <td>NaN</td>\n",
       "      <td>Africa</td>\n",
       "      <td>NaN</td>\n",
       "      <td>NaN</td>\n",
       "    </tr>\n",
       "    <tr>\n",
       "      <th>freq</th>\n",
       "      <td>12</td>\n",
       "      <td>NaN</td>\n",
       "      <td>NaN</td>\n",
       "      <td>624</td>\n",
       "      <td>NaN</td>\n",
       "      <td>NaN</td>\n",
       "    </tr>\n",
       "    <tr>\n",
       "      <th>mean</th>\n",
       "      <td>NaN</td>\n",
       "      <td>1979.50000</td>\n",
       "      <td>2.960121e+07</td>\n",
       "      <td>NaN</td>\n",
       "      <td>59.474439</td>\n",
       "      <td>7215.327081</td>\n",
       "    </tr>\n",
       "    <tr>\n",
       "      <th>std</th>\n",
       "      <td>NaN</td>\n",
       "      <td>17.26533</td>\n",
       "      <td>1.061579e+08</td>\n",
       "      <td>NaN</td>\n",
       "      <td>12.917107</td>\n",
       "      <td>9857.454543</td>\n",
       "    </tr>\n",
       "    <tr>\n",
       "      <th>min</th>\n",
       "      <td>NaN</td>\n",
       "      <td>1952.00000</td>\n",
       "      <td>6.001100e+04</td>\n",
       "      <td>NaN</td>\n",
       "      <td>23.599000</td>\n",
       "      <td>241.165876</td>\n",
       "    </tr>\n",
       "    <tr>\n",
       "      <th>25%</th>\n",
       "      <td>NaN</td>\n",
       "      <td>1965.75000</td>\n",
       "      <td>2.793664e+06</td>\n",
       "      <td>NaN</td>\n",
       "      <td>48.198000</td>\n",
       "      <td>1202.060309</td>\n",
       "    </tr>\n",
       "    <tr>\n",
       "      <th>50%</th>\n",
       "      <td>NaN</td>\n",
       "      <td>1979.50000</td>\n",
       "      <td>7.023596e+06</td>\n",
       "      <td>NaN</td>\n",
       "      <td>60.712500</td>\n",
       "      <td>3531.846988</td>\n",
       "    </tr>\n",
       "    <tr>\n",
       "      <th>75%</th>\n",
       "      <td>NaN</td>\n",
       "      <td>1993.25000</td>\n",
       "      <td>1.958522e+07</td>\n",
       "      <td>NaN</td>\n",
       "      <td>70.845500</td>\n",
       "      <td>9325.462346</td>\n",
       "    </tr>\n",
       "    <tr>\n",
       "      <th>max</th>\n",
       "      <td>NaN</td>\n",
       "      <td>2007.00000</td>\n",
       "      <td>1.318683e+09</td>\n",
       "      <td>NaN</td>\n",
       "      <td>82.603000</td>\n",
       "      <td>113523.132900</td>\n",
       "    </tr>\n",
       "  </tbody>\n",
       "</table>\n",
       "</div>"
      ],
      "text/plain": [
       "            country        year    population continent     life_exp  \\\n",
       "count          1704  1704.00000  1.704000e+03      1704  1704.000000   \n",
       "unique          142         NaN           NaN         5          NaN   \n",
       "top     Afghanistan         NaN           NaN    Africa          NaN   \n",
       "freq             12         NaN           NaN       624          NaN   \n",
       "mean            NaN  1979.50000  2.960121e+07       NaN    59.474439   \n",
       "std             NaN    17.26533  1.061579e+08       NaN    12.917107   \n",
       "min             NaN  1952.00000  6.001100e+04       NaN    23.599000   \n",
       "25%             NaN  1965.75000  2.793664e+06       NaN    48.198000   \n",
       "50%             NaN  1979.50000  7.023596e+06       NaN    60.712500   \n",
       "75%             NaN  1993.25000  1.958522e+07       NaN    70.845500   \n",
       "max             NaN  2007.00000  1.318683e+09       NaN    82.603000   \n",
       "\n",
       "              gdp_cap  \n",
       "count     1704.000000  \n",
       "unique            NaN  \n",
       "top               NaN  \n",
       "freq              NaN  \n",
       "mean      7215.327081  \n",
       "std       9857.454543  \n",
       "min        241.165876  \n",
       "25%       1202.060309  \n",
       "50%       3531.846988  \n",
       "75%       9325.462346  \n",
       "max     113523.132900  "
      ]
     },
     "execution_count": 7,
     "metadata": {},
     "output_type": "execute_result"
    }
   ],
   "source": [
    "Gapminder_dataset.describe(include='all')"
   ]
  },
  {
   "cell_type": "code",
   "execution_count": 8,
   "id": "e602e313",
   "metadata": {},
   "outputs": [
    {
     "name": "stderr",
     "output_type": "stream",
     "text": [
      "C:\\Users\\AMULYA\\AppData\\Local\\Temp/ipykernel_16788/2772475566.py:1: FutureWarning: Dropping of nuisance columns in DataFrame reductions (with 'numeric_only=None') is deprecated; in a future version this will raise TypeError.  Select only valid columns before calling the reduction.\n",
      "  Gapminder_dataset.mean()\n"
     ]
    },
    {
     "data": {
      "text/plain": [
       "year          1.979500e+03\n",
       "population    2.960121e+07\n",
       "life_exp      5.947444e+01\n",
       "gdp_cap       7.215327e+03\n",
       "dtype: float64"
      ]
     },
     "execution_count": 8,
     "metadata": {},
     "output_type": "execute_result"
    }
   ],
   "source": [
    "Gapminder_dataset.mean()"
   ]
  },
  {
   "cell_type": "markdown",
   "id": "0b4cfe07",
   "metadata": {},
   "source": [
    "#### Q1: Country and continent are string data type. Please convert them into categorical data type using porgramming constructs."
   ]
  },
  {
   "cell_type": "code",
   "execution_count": 9,
   "id": "12af1705",
   "metadata": {},
   "outputs": [
    {
     "name": "stdout",
     "output_type": "stream",
     "text": [
      "<class 'pandas.core.frame.DataFrame'>\n",
      "Int64Index: 1704 entries, 0 to 1703\n",
      "Data columns (total 6 columns):\n",
      " #   Column      Non-Null Count  Dtype   \n",
      "---  ------      --------------  -----   \n",
      " 0   country     1704 non-null   category\n",
      " 1   year        1704 non-null   int64   \n",
      " 2   population  1704 non-null   int64   \n",
      " 3   continent   1704 non-null   category\n",
      " 4   life_exp    1704 non-null   float64 \n",
      " 5   gdp_cap     1704 non-null   float64 \n",
      "dtypes: category(2), float64(2), int64(2)\n",
      "memory usage: 76.9 KB\n"
     ]
    }
   ],
   "source": [
    "for col in ['country', 'continent']:\n",
    "    Gapminder_dataset[col] = Gapminder_dataset[col].astype('category')\n",
    "Gapminder_dataset.info()"
   ]
  },
  {
   "cell_type": "markdown",
   "id": "30079e0e",
   "metadata": {},
   "source": [
    "#### Q2: Count the number of countries in this dataset."
   ]
  },
  {
   "cell_type": "code",
   "execution_count": 10,
   "id": "28ae800f",
   "metadata": {},
   "outputs": [
    {
     "data": {
      "text/plain": [
       "Afghanistan          12\n",
       "Pakistan             12\n",
       "New Zealand          12\n",
       "Nicaragua            12\n",
       "Niger                12\n",
       "                     ..\n",
       "Eritrea              12\n",
       "Equatorial Guinea    12\n",
       "El Salvador          12\n",
       "Egypt                12\n",
       "Zimbabwe             12\n",
       "Name: country, Length: 142, dtype: int64"
      ]
     },
     "execution_count": 10,
     "metadata": {},
     "output_type": "execute_result"
    }
   ],
   "source": [
    "Gapminder_dataset['country'].value_counts()"
   ]
  },
  {
   "cell_type": "code",
   "execution_count": 11,
   "id": "3717dac0",
   "metadata": {},
   "outputs": [
    {
     "data": {
      "text/plain": [
       "142"
      ]
     },
     "execution_count": 11,
     "metadata": {},
     "output_type": "execute_result"
    }
   ],
   "source": [
    "countries = Gapminder_dataset['country'].unique()\n",
    "\n",
    "len(countries)"
   ]
  },
  {
   "cell_type": "code",
   "execution_count": 12,
   "id": "82944f69",
   "metadata": {},
   "outputs": [
    {
     "data": {
      "text/plain": [
       "country       False\n",
       "year          False\n",
       "population    False\n",
       "continent     False\n",
       "life_exp      False\n",
       "gdp_cap       False\n",
       "dtype: bool"
      ]
     },
     "execution_count": 12,
     "metadata": {},
     "output_type": "execute_result"
    }
   ],
   "source": [
    "Gapminder_dataset.isna().any()"
   ]
  },
  {
   "cell_type": "markdown",
   "id": "8026c91e",
   "metadata": {},
   "source": [
    "#### Q3: Which country had the lowest life expectancy in 2007?"
   ]
  },
  {
   "cell_type": "code",
   "execution_count": 13,
   "id": "f8b68e3c",
   "metadata": {},
   "outputs": [
    {
     "data": {
      "text/html": [
       "<div>\n",
       "<style scoped>\n",
       "    .dataframe tbody tr th:only-of-type {\n",
       "        vertical-align: middle;\n",
       "    }\n",
       "\n",
       "    .dataframe tbody tr th {\n",
       "        vertical-align: top;\n",
       "    }\n",
       "\n",
       "    .dataframe thead th {\n",
       "        text-align: right;\n",
       "    }\n",
       "</style>\n",
       "<table border=\"1\" class=\"dataframe\">\n",
       "  <thead>\n",
       "    <tr style=\"text-align: right;\">\n",
       "      <th></th>\n",
       "      <th>country</th>\n",
       "      <th>year</th>\n",
       "      <th>population</th>\n",
       "      <th>continent</th>\n",
       "      <th>life_exp</th>\n",
       "      <th>gdp_cap</th>\n",
       "    </tr>\n",
       "  </thead>\n",
       "  <tbody>\n",
       "    <tr>\n",
       "      <th>1463</th>\n",
       "      <td>Swaziland</td>\n",
       "      <td>2007</td>\n",
       "      <td>1133066</td>\n",
       "      <td>Africa</td>\n",
       "      <td>39.613</td>\n",
       "      <td>4513.480643</td>\n",
       "    </tr>\n",
       "  </tbody>\n",
       "</table>\n",
       "</div>"
      ],
      "text/plain": [
       "        country  year  population continent  life_exp      gdp_cap\n",
       "1463  Swaziland  2007     1133066    Africa    39.613  4513.480643"
      ]
     },
     "execution_count": 13,
     "metadata": {},
     "output_type": "execute_result"
    }
   ],
   "source": [
    "Gapminder_2007 = Gapminder_dataset[Gapminder_dataset['year']== 2007]\n",
    "Gapminder_2007[Gapminder_2007.life_exp == Gapminder_2007.life_exp.min()]"
   ]
  },
  {
   "cell_type": "markdown",
   "id": "2724260d",
   "metadata": {},
   "source": [
    "#### Q4: Which country had the highest GDP per capita in 2007?"
   ]
  },
  {
   "cell_type": "code",
   "execution_count": 14,
   "id": "5d8232b3",
   "metadata": {},
   "outputs": [
    {
     "data": {
      "text/html": [
       "<div>\n",
       "<style scoped>\n",
       "    .dataframe tbody tr th:only-of-type {\n",
       "        vertical-align: middle;\n",
       "    }\n",
       "\n",
       "    .dataframe tbody tr th {\n",
       "        vertical-align: top;\n",
       "    }\n",
       "\n",
       "    .dataframe thead th {\n",
       "        text-align: right;\n",
       "    }\n",
       "</style>\n",
       "<table border=\"1\" class=\"dataframe\">\n",
       "  <thead>\n",
       "    <tr style=\"text-align: right;\">\n",
       "      <th></th>\n",
       "      <th>country</th>\n",
       "      <th>year</th>\n",
       "      <th>population</th>\n",
       "      <th>continent</th>\n",
       "      <th>life_exp</th>\n",
       "      <th>gdp_cap</th>\n",
       "    </tr>\n",
       "  </thead>\n",
       "  <tbody>\n",
       "    <tr>\n",
       "      <th>1151</th>\n",
       "      <td>Norway</td>\n",
       "      <td>2007</td>\n",
       "      <td>4627926</td>\n",
       "      <td>Europe</td>\n",
       "      <td>80.196</td>\n",
       "      <td>49357.19017</td>\n",
       "    </tr>\n",
       "  </tbody>\n",
       "</table>\n",
       "</div>"
      ],
      "text/plain": [
       "     country  year  population continent  life_exp      gdp_cap\n",
       "1151  Norway  2007     4627926    Europe    80.196  49357.19017"
      ]
     },
     "execution_count": 14,
     "metadata": {},
     "output_type": "execute_result"
    }
   ],
   "source": [
    "Gapminder_2007 = Gapminder_dataset[Gapminder_dataset['year']== 2007]\n",
    "Gapminder_2007[Gapminder_2007.gdp_cap == Gapminder_2007.gdp_cap.max()]"
   ]
  },
  {
   "cell_type": "markdown",
   "id": "a6367de5",
   "metadata": {},
   "source": [
    "#### Q5: Which country had the highest GDP in 2007?"
   ]
  },
  {
   "cell_type": "markdown",
   "id": "45a0ab1a",
   "metadata": {},
   "source": [
    "#### use formula"
   ]
  },
  {
   "cell_type": "code",
   "execution_count": 15,
   "id": "ea96cda8",
   "metadata": {},
   "outputs": [
    {
     "data": {
      "text/html": [
       "<div>\n",
       "<style scoped>\n",
       "    .dataframe tbody tr th:only-of-type {\n",
       "        vertical-align: middle;\n",
       "    }\n",
       "\n",
       "    .dataframe tbody tr th {\n",
       "        vertical-align: top;\n",
       "    }\n",
       "\n",
       "    .dataframe thead th {\n",
       "        text-align: right;\n",
       "    }\n",
       "</style>\n",
       "<table border=\"1\" class=\"dataframe\">\n",
       "  <thead>\n",
       "    <tr style=\"text-align: right;\">\n",
       "      <th></th>\n",
       "      <th>country</th>\n",
       "      <th>year</th>\n",
       "      <th>population</th>\n",
       "      <th>continent</th>\n",
       "      <th>life_exp</th>\n",
       "      <th>gdp_cap</th>\n",
       "      <th>gdp</th>\n",
       "    </tr>\n",
       "  </thead>\n",
       "  <tbody>\n",
       "    <tr>\n",
       "      <th>1619</th>\n",
       "      <td>United States</td>\n",
       "      <td>2007</td>\n",
       "      <td>301139947</td>\n",
       "      <td>Americas</td>\n",
       "      <td>78.242</td>\n",
       "      <td>42951.65309</td>\n",
       "      <td>1.293446e+13</td>\n",
       "    </tr>\n",
       "  </tbody>\n",
       "</table>\n",
       "</div>"
      ],
      "text/plain": [
       "            country  year  population continent  life_exp      gdp_cap  \\\n",
       "1619  United States  2007   301139947  Americas    78.242  42951.65309   \n",
       "\n",
       "               gdp  \n",
       "1619  1.293446e+13  "
      ]
     },
     "execution_count": 15,
     "metadata": {},
     "output_type": "execute_result"
    }
   ],
   "source": [
    "Gapminder_dataset['gdp'] = Gapminder_dataset.gdp_cap*Gapminder_dataset.population\n",
    "Gapminder_2007 = Gapminder_dataset[Gapminder_dataset['year']==2007]\n",
    "Gapminder_2007[Gapminder_2007.gdp==Gapminder_2007.gdp.max()]"
   ]
  },
  {
   "cell_type": "markdown",
   "id": "2fe47dcf",
   "metadata": {},
   "source": [
    "#### Q6. Is there any change in the trend from 1952 to 2007 in life expectancy"
   ]
  },
  {
   "cell_type": "code",
   "execution_count": 16,
   "id": "b045af6e",
   "metadata": {},
   "outputs": [
    {
     "data": {
      "text/plain": [
       "<AxesSubplot:xlabel='year', ylabel='life_exp'>"
      ]
     },
     "execution_count": 16,
     "metadata": {},
     "output_type": "execute_result"
    },
    {
     "data": {
      "image/png": "[encoded data removed]",
      "text/plain": [
       "<Figure size 432x288 with 1 Axes>"
      ]
     },
     "metadata": {
      "needs_background": "light"
     },
     "output_type": "display_data"
    }
   ],
   "source": [
    "sns.boxplot(x ='year', y = 'life_exp', data = Gapminder_dataset)"
   ]
  },
  {
   "cell_type": "markdown",
   "id": "abcdf5cd",
   "metadata": {},
   "source": [
    "#### Q7: Which continent has the lowest life expectancy in 2007?"
   ]
  },
  {
   "cell_type": "code",
   "execution_count": 17,
   "id": "6e67c8bb",
   "metadata": {},
   "outputs": [
    {
     "data": {
      "text/plain": [
       "<AxesSubplot:xlabel='continent', ylabel='life_exp'>"
      ]
     },
     "execution_count": 17,
     "metadata": {},
     "output_type": "execute_result"
    },
    {
     "data": {
      "image/png": "[encoded data removed]",
      "text/plain": [
       "<Figure size 432x288 with 1 Axes>"
      ]
     },
     "metadata": {
      "needs_background": "light"
     },
     "output_type": "display_data"
    }
   ],
   "source": [
    "sns.boxplot(x ='continent', y = 'life_exp', data = Gapminder_dataset)"
   ]
  },
  {
   "cell_type": "markdown",
   "id": "9acff003",
   "metadata": {},
   "source": [
    "#### Q8: What was the average life expectancy, GDP and gdp per capita in 2007?"
   ]
  },
  {
   "cell_type": "code",
   "execution_count": 18,
   "id": "a20c5ebd",
   "metadata": {},
   "outputs": [
    {
     "data": {
      "text/plain": [
       "Text(0, 0.5, 'Life Expectancy[in years]')"
      ]
     },
     "execution_count": 18,
     "metadata": {},
     "output_type": "execute_result"
    },
    {
     "data": {
      "image/png": "[encoded data removed]",
      "text/plain": [
       "<Figure size 432x288 with 1 Axes>"
      ]
     },
     "metadata": {
      "needs_background": "light"
     },
     "output_type": "display_data"
    }
   ],
   "source": [
    "sns.scatterplot(x = 'gdp_cap',\n",
    "               y ='life_exp',\n",
    "               data = Gapminder_2007)\n",
    "plt.xscale('log')#converting x scale into log\n",
    "plt.xlabel('GDP per captia [in USD]')\n",
    "plt.ylabel('Life Expectancy[in years]')"
   ]
  },
  {
   "cell_type": "markdown",
   "id": "f7f10f6c",
   "metadata": {},
   "source": [
    "#### Q9: Is there any relationship between life expectancy and gdp per capita? Please show each data point by continent."
   ]
  },
  {
   "cell_type": "code",
   "execution_count": 23,
   "id": "86ad00a1",
   "metadata": {},
   "outputs": [
    {
     "data": {
      "text/plain": [
       "Text(0, 0.5, 'Life Expectancy[in years]')"
      ]
     },
     "execution_count": 23,
     "metadata": {},
     "output_type": "execute_result"
    },
    {
     "data": {
      "image/png": "[encoded data removed]",
      "text/plain": [
       "<Figure size 432x288 with 1 Axes>"
      ]
     },
     "metadata": {
      "needs_background": "light"
     },
     "output_type": "display_data"
    }
   ],
   "source": [
    "sns.scatterplot(x = 'gdp_cap',\n",
    "                y ='life_exp',\n",
    "                hue = 'continent', \n",
    "                data = Gapminder_2007)\n",
    "plt.xlabel('GDP per captia [in USD]')\n",
    "plt.ylabel('Life Expectancy[in years]')"
   ]
  },
  {
   "cell_type": "markdown",
   "id": "66f99f07",
   "metadata": {},
   "source": [
    "#### Q10: What can be done to see the relationship better between life expectancy and gdp percapita?"
   ]
  },
  {
   "cell_type": "code",
   "execution_count": 25,
   "id": "76cbc6c9",
   "metadata": {},
   "outputs": [],
   "source": [
    "Gapminder_India = Gapminder_dataset[Gapminder_dataset['country']== 'India'] "
   ]
  },
  {
   "cell_type": "code",
   "execution_count": 30,
   "id": "37c077c5",
   "metadata": {},
   "outputs": [
    {
     "data": {
      "text/plain": [
       "<AxesSubplot:xlabel='life_exp', ylabel='gdp_cap'>"
      ]
     },
     "execution_count": 30,
     "metadata": {},
     "output_type": "execute_result"
    },
    {
     "data": {
      "image/png": "[encoded data removed]",
      "text/plain": [
       "<Figure size 432x288 with 1 Axes>"
      ]
     },
     "metadata": {
      "needs_background": "light"
     },
     "output_type": "display_data"
    }
   ],
   "source": [
    "sns.lineplot(x = 'life_exp', y = 'gdp_cap', data = Gapminder_India)"
   ]
  },
  {
   "cell_type": "markdown",
   "id": "fef2763d",
   "metadata": {},
   "source": [
    "#### 11. What is the trend of life expectancy in India from 1952 - 2007?"
   ]
  },
  {
   "cell_type": "code",
   "execution_count": 27,
   "id": "f46588c6",
   "metadata": {},
   "outputs": [
    {
     "data": {
      "text/plain": [
       "<AxesSubplot:xlabel='year', ylabel='life_exp'>"
      ]
     },
     "execution_count": 27,
     "metadata": {},
     "output_type": "execute_result"
    },
    {
     "data": {
      "image/png": "[encoded data removed]",
      "text/plain": [
       "<Figure size 432x288 with 1 Axes>"
      ]
     },
     "metadata": {
      "needs_background": "light"
     },
     "output_type": "display_data"
    }
   ],
   "source": [
    "sns.lineplot(data = Gapminder_dataset, x = 'year', y = 'life_exp')"
   ]
  },
  {
   "cell_type": "markdown",
   "id": "9cc9e95e",
   "metadata": {},
   "source": [
    "#### Q12: What is the trend of GDP per capita in India from 1952 - 2007?"
   ]
  },
  {
   "cell_type": "code",
   "execution_count": 32,
   "id": "91ec6721",
   "metadata": {},
   "outputs": [
    {
     "data": {
      "text/plain": [
       "<AxesSubplot:xlabel='year', ylabel='gdp_cap'>"
      ]
     },
     "execution_count": 32,
     "metadata": {},
     "output_type": "execute_result"
    },
    {
     "data": {
      "image/png": "[encoded data removed]",
      "text/plain": [
       "<Figure size 432x288 with 1 Axes>"
      ]
     },
     "metadata": {
      "needs_background": "light"
     },
     "output_type": "display_data"
    }
   ],
   "source": [
    "sns.lineplot(x = 'year', y = 'gdp_cap', data = Gapminder_India)"
   ]
  },
  {
   "cell_type": "markdown",
   "id": "a50cda3f",
   "metadata": {},
   "source": [
    "#### Q13: What is the median age of each continent by year?"
   ]
  },
  {
   "cell_type": "code",
   "execution_count": 21,
   "id": "5494d425",
   "metadata": {},
   "outputs": [
    {
     "data": {
      "text/plain": [
       "year  continent\n",
       "1952  Africa       38.8330\n",
       "      Americas     54.7450\n",
       "      Asia         44.8690\n",
       "      Europe       65.9000\n",
       "      Oceania      69.2550\n",
       "1957  Africa       40.5925\n",
       "      Americas     56.0740\n",
       "      Asia         48.2840\n",
       "      Europe       67.6500\n",
       "      Oceania      70.2950\n",
       "1962  Africa       42.6305\n",
       "      Americas     58.2990\n",
       "      Asia         49.3250\n",
       "      Europe       69.5250\n",
       "      Oceania      71.0850\n",
       "1967  Africa       44.6985\n",
       "      Americas     60.5230\n",
       "      Asia         53.6550\n",
       "      Europe       70.6100\n",
       "      Oceania      71.3100\n",
       "1972  Africa       47.0315\n",
       "      Americas     63.4410\n",
       "      Asia         56.9500\n",
       "      Europe       70.8850\n",
       "      Oceania      71.9100\n",
       "1977  Africa       49.2725\n",
       "      Americas     66.3530\n",
       "      Asia         60.7650\n",
       "      Europe       72.3350\n",
       "      Oceania      72.8550\n",
       "1982  Africa       50.7560\n",
       "      Americas     67.4050\n",
       "      Asia         63.7390\n",
       "      Europe       73.4900\n",
       "      Oceania      74.2900\n",
       "1987  Africa       51.6395\n",
       "      Americas     69.4980\n",
       "      Asia         66.2950\n",
       "      Europe       74.8150\n",
       "      Oceania      75.3200\n",
       "1992  Africa       52.4290\n",
       "      Americas     69.8620\n",
       "      Asia         68.6900\n",
       "      Europe       75.4510\n",
       "      Oceania      76.9450\n",
       "1997  Africa       52.7590\n",
       "      Americas     72.1460\n",
       "      Asia         70.2650\n",
       "      Europe       76.1160\n",
       "      Oceania      78.1900\n",
       "2002  Africa       51.2355\n",
       "      Americas     72.0470\n",
       "      Asia         71.0280\n",
       "      Europe       77.5365\n",
       "      Oceania      79.7400\n",
       "2007  Africa       52.9265\n",
       "      Americas     72.8990\n",
       "      Asia         72.3960\n",
       "      Europe       78.6085\n",
       "      Oceania      80.7195\n",
       "Name: life_exp, dtype: float64"
      ]
     },
     "execution_count": 21,
     "metadata": {},
     "output_type": "execute_result"
    }
   ],
   "source": [
    "Gapminder_gb_year_cont = Gapminder_dataset.groupby(['year', 'continent'])['life_exp'].median()\n",
    "Gapminder_gb_year_cont"
   ]
  }
 ],
 "metadata": {
  "kernelspec": {
   "display_name": "Python 3 (ipykernel)",
   "language": "python",
   "name": "python3"
  },
  "language_info": {
   "codemirror_mode": {
    "name": "ipython",
    "version": 3
   },
   "file_extension": ".py",
   "mimetype": "text/x-python",
   "name": "python",
   "nbconvert_exporter": "python",
   "pygments_lexer": "ipython3",
   "version": "3.9.7"
  }
 },
 "nbformat": 4,
 "nbformat_minor": 5
}
